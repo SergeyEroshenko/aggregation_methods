{
 "cells": [
  {
   "cell_type": "code",
   "execution_count": 269,
   "metadata": {},
   "outputs": [],
   "source": [
    "import os\n",
    "import numpy as np\n",
    "import pandas as pd\n",
    "\n",
    "from hitbtc import HitBTC\n",
    "from aggregate import *\n",
    "from markup import *\n",
    "from datetime import datetime\n",
    "\n",
    "from sklearn.ensemble import GradientBoostingClassifier\n",
    "from sklearn.model_selection import train_test_split\n",
    "\n",
    "import matplotlib.pyplot as plt"
   ]
  },
  {
   "cell_type": "code",
   "execution_count": 340,
   "metadata": {},
   "outputs": [],
   "source": [
    "def test(X_test, y_test, y_pred, win_params, slippage=3):\n",
    "    \n",
    "    y = np.copy(y_test)\n",
    "\n",
    "    TP = win_params['TP']\n",
    "    SL = win_params['SL']\n",
    "    win_pre = win_params['size_0']\n",
    "    win_post = win_params['size_1']\n",
    "    \n",
    "    # проскальзывание. зависит от объема сделок. возьмем условно\n",
    "    cost = X_test[:,0].mean()*0.0007 # комиссия биржи. усредненно за тестируемый период\n",
    "    spread = abs(np.mean(X_test[:,0]-X_test[:,3]))*2\n",
    "    \n",
    "    # смотрим, на каких индексах окон происходило закрытие по TimeStop\n",
    "    idx_TS = np.where(y_test==0)[0]\n",
    "    # берем индексы свечей открытия и закрытия сделки\n",
    "    idx_TS_init = idx_TS + win_pre\n",
    "    idx_TS_close = idx_TS_init + win_post\n",
    "\n",
    "    idx_TS_init = idx_TS_init[idx_TS_init<X_test.shape[0] - win_post]\n",
    "    idx_TS_close = idx_TS_close[idx_TS_close<X_test.shape[0]]\n",
    "\n",
    "    # вычисляем разницу между ценой закрытия и ценой открытия окн\n",
    "    TS = X_test[idx_TS_init, 0] - X_test[idx_TS_close, 0]\n",
    "    TS = np.concatenate([TS, np.zeros(y[y_test==0].shape[0] - TS.shape[0])])\n",
    "\n",
    "    # заменяем коды ответов на результат в пунктах цены,\n",
    "    # с учетом комиссий и проскальзываний и спредов\n",
    "    y[y_test==0] = TS - slippage - cost - spread\n",
    "    y[y_test==1] = TP - slippage - cost #сперда нет, т.к. закрываем лимитным ордером\n",
    "    y[y_test==2] = -SL - slippage - cost - spread\n",
    "    # редкий случай, когда в одном баре случается и TP и SL условно примем за худший результат =SL\n",
    "    y[y_test==3] = -SL - slippage - cost - spread\n",
    "    # перем ресультаты сделок, предсказанных моделью\n",
    "    res = y[y_pred==1]\n",
    "    \n",
    "    return res"
   ]
  },
  {
   "cell_type": "code",
   "execution_count": 385,
   "metadata": {},
   "outputs": [],
   "source": [
    "def depo_load(y_pred):\n",
    "\n",
    "    ret = []\n",
    "    for i in range(len(y_pred)):\n",
    "        \n",
    "        load = y_pred[i:i+win_params['size_1']]\n",
    "        ret.append(load[load==1].sum()/win_params['size_1'])\n",
    "\n",
    "    ret = np.array(ret)\n",
    "    ret = ret[y_pred==1]\n",
    "\n",
    "    return ret"
   ]
  },
  {
   "cell_type": "code",
   "execution_count": 393,
   "metadata": {},
   "outputs": [],
   "source": [
    "def report(res, load):\n",
    "    \n",
    "    mean_loss_trade = -res[res<0].mean()\n",
    "    loss_trades = len(res[res<0])\n",
    "    mean_profit_trade = res[res>=0].mean()\n",
    "    profit_trades = len(res[res>=0])\n",
    "    PL = ((profit_trades * mean_profit_trade) / \\\n",
    "          (loss_trades * mean_loss_trade))\n",
    "    \n",
    "    plt.figure(figsize=(12,8))\n",
    "    plt.subplot(211, title='Результат сделок')\n",
    "    plt.plot(range(len(res)), np.cumsum(res))\n",
    "    plt.subplot(212, title='Загрузка депозита, %')\n",
    "    plt.plot(load, c='orange')\n",
    "    plt.show()\n",
    "    \n",
    "    print(f'\\nProfit trades: {profit_trades:}\\tMean profit trade: {mean_profit_trade:.2f}')\n",
    "    print(f'Loss trades: {loss_trades}\\t\\tMean loss trade: {mean_loss_trade:.2f}')\n",
    "    print(f'\\nProfit factor: {PL:.2f}')\n",
    "    print(f'Mean result on trade: {y.sum()/y.shape[0]:.2f}')"
   ]
  },
  {
   "cell_type": "markdown",
   "metadata": {},
   "source": [
    "###"
   ]
  },
  {
   "cell_type": "code",
   "execution_count": 270,
   "metadata": {},
   "outputs": [],
   "source": [
    "### Входные данные\n",
    "data_path = './data'\n",
    "file = 'ETHBTC_2020-01-01_2020-04-10_1719370.csv'\n",
    "\n",
    "# множитель для приведения цены актива к целому значению\n",
    "point = 1e6"
   ]
  },
  {
   "cell_type": "code",
   "execution_count": 271,
   "metadata": {},
   "outputs": [],
   "source": [
    "# загрузка данных и приведение типов\n",
    "df = pd.read_csv(os.path.join(data_path, file))\n",
    "df = dtypes_corr(df)\n",
    "# агрегация данных\n",
    "df = money_repr(df, 100)\n",
    "df = fill_empty(df)"
   ]
  },
  {
   "cell_type": "code",
   "execution_count": 272,
   "metadata": {},
   "outputs": [],
   "source": [
    "### Исследуемая модель\n",
    "clf = GradientBoostingClassifier(random_state=1)\n",
    "\n",
    "### Исследуемые параметры\n",
    "clf_params = {\n",
    "    'max_depth': 1,\n",
    "    'learning_rate': 0.15,\n",
    "    'min_samples_split': 200,\n",
    "    'min_samples_leaf': 92\n",
    "}\n",
    "\n",
    "win_params = {\n",
    "    'TP': 300,\n",
    "    'SL': 200,\n",
    "    'size_0': 100,\n",
    "    'size_1': 50\n",
    "}"
   ]
  },
  {
   "cell_type": "code",
   "execution_count": 274,
   "metadata": {},
   "outputs": [],
   "source": [
    "data = window_cutter(df=df, **win_params, point=point)"
   ]
  },
  {
   "cell_type": "code",
   "execution_count": 275,
   "metadata": {},
   "outputs": [
    {
     "data": {
      "text/plain": [
       "(1947, 601)"
      ]
     },
     "execution_count": 275,
     "metadata": {},
     "output_type": "execute_result"
    }
   ],
   "source": [
    "data.shape"
   ]
  },
  {
   "cell_type": "code",
   "execution_count": 276,
   "metadata": {},
   "outputs": [],
   "source": [
    "X = data[:,:-1]\n",
    "y = data[:,-1]"
   ]
  },
  {
   "cell_type": "code",
   "execution_count": 277,
   "metadata": {},
   "outputs": [],
   "source": [
    "# разбиение на трейн тест\n",
    "X_train, X_test, y_train, y_test = train_test_split(\n",
    "    X, y, test_size=0.2, random_state=1, shuffle=False\n",
    ")"
   ]
  },
  {
   "cell_type": "code",
   "execution_count": 278,
   "metadata": {},
   "outputs": [],
   "source": [
    "#  отбор обьектов для обучения\n",
    "data = np.hstack([\n",
    "    X_train, \n",
    "    y_train.reshape(y_train.shape[0], 1)\n",
    "])\n",
    "sel_idx = select(df, data, win_params['size_0'])\n",
    "X_train = X_train[sel_idx]\n",
    "y_train = y_train[sel_idx]"
   ]
  },
  {
   "cell_type": "code",
   "execution_count": 279,
   "metadata": {},
   "outputs": [
    {
     "data": {
      "text/plain": [
       "GradientBoostingClassifier(ccp_alpha=0.0, criterion='friedman_mse', init=None,\n",
       "                           learning_rate=0.15, loss='deviance', max_depth=1,\n",
       "                           max_features=None, max_leaf_nodes=None,\n",
       "                           min_impurity_decrease=0.0, min_impurity_split=None,\n",
       "                           min_samples_leaf=92, min_samples_split=200,\n",
       "                           min_weight_fraction_leaf=0.0, n_estimators=100,\n",
       "                           n_iter_no_change=None, presort='deprecated',\n",
       "                           random_state=1, subsample=1.0, tol=0.0001,\n",
       "                           validation_fraction=0.1, verbose=0,\n",
       "                           warm_start=False)"
      ]
     },
     "execution_count": 279,
     "metadata": {},
     "output_type": "execute_result"
    }
   ],
   "source": [
    "clf.set_params(**clf_params)\n",
    "clf.fit(X_train, y_train)"
   ]
  },
  {
   "cell_type": "code",
   "execution_count": 280,
   "metadata": {},
   "outputs": [],
   "source": [
    "y_pred = clf.predict(X_test)"
   ]
  },
  {
   "cell_type": "markdown",
   "metadata": {},
   "source": [
    "**Построение графика доходности и условной загрузки депозита**"
   ]
  },
  {
   "cell_type": "code",
   "execution_count": 388,
   "metadata": {},
   "outputs": [],
   "source": [
    "# проводим тестирование на полученых результатах\n",
    "res = test(X_test, y_test, y_pred, win_params)\n",
    "load = depo_load(y_pred)"
   ]
  },
  {
   "cell_type": "code",
   "execution_count": 394,
   "metadata": {
    "scrolled": false
   },
   "outputs": [
    {
     "data": {
      "image/png": "[encoded data removed]",
      "text/plain": [
       "<Figure size 864x576 with 2 Axes>"
      ]
     },
     "metadata": {
      "needs_background": "light"
     },
     "output_type": "display_data"
    },
    {
     "name": "stdout",
     "output_type": "stream",
     "text": [
      "\n",
      "Profit trades: 117\tMean profit trade: 282.03\n",
      "Loss trades: 78\t\tMean loss trade: 225.24\n",
      "\n",
      "Profit factor: 1.88\n",
      "Mean result on trade: 68.39\n"
     ]
    }
   ],
   "source": [
    "report(res, load)"
   ]
  }
 ],
 "metadata": {
  "kernelspec": {
   "display_name": "Python 3",
   "language": "python",
   "name": "python3"
  },
  "language_info": {
   "codemirror_mode": {
    "name": "ipython",
    "version": 3
   },
   "file_extension": ".py",
   "mimetype": "text/x-python",
   "name": "python",
   "nbconvert_exporter": "python",
   "pygments_lexer": "ipython3",
   "version": "3.7.7"
  }
 },
 "nbformat": 4,
 "nbformat_minor": 2
}
