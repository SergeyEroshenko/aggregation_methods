{
 "cells": [
  {
   "cell_type": "code",
   "execution_count": 1,
   "metadata": {},
   "outputs": [],
   "source": [
    "import os\n",
    "import numpy as np\n",
    "import pandas as pd\n",
    "from datetime import datetime\n",
    "import pickle\n",
    "\n",
    "from aggregate import *\n",
    "from markup import *\n",
    "\n",
    "from sklearn.model_selection import train_test_split"
   ]
  },
  {
   "cell_type": "code",
   "execution_count": 2,
   "metadata": {},
   "outputs": [],
   "source": [
    "data_path = './data'"
   ]
  },
  {
   "cell_type": "code",
   "execution_count": 3,
   "metadata": {},
   "outputs": [],
   "source": [
    "file = 'ETHBTC_2020-01-01_2020-04-10_1719370.csv'\n",
    "dataset = 'dataset_0.npz'"
   ]
  },
  {
   "cell_type": "code",
   "execution_count": 4,
   "metadata": {},
   "outputs": [
    {
     "name": "stdout",
     "output_type": "stream",
     "text": [
      "Количество записей в ленте 1719370\n",
      "Количество баров после агрегации 20962\n"
     ]
    }
   ],
   "source": [
    "### Входные данные\n",
    "\n",
    "df = pd.read_csv(os.path.join(data_path, file))\n",
    "df = dtypes_corr(df)\n",
    "print(f'Количество записей в ленте {df.shape[0]}')\n",
    "# агрегация данных\n",
    "frame = 10 # Размер бара. \n",
    "# Для метода money_repr и пары ETHBTC означает проторгованный объем в 10 BTC\n",
    "\n",
    "df = money_repr(df, frame)\n",
    "df = fill_empty(df)\n",
    "print(f'Количество баров после агрегации {df.shape[0]}')\n",
    "\n",
    "# параметры разметки\n",
    "point = 1e6 # множитель для приведения котировки к целому числу\n",
    "SL = 100 # StopLoss\n",
    "TP = 200 # TakeProfit\n",
    "size_0 = 50 # размер окна в барах, определяющего объект обучения\n",
    "size_1 = 100 # размер окна в барах, определяющего метку класса\n",
    "\n",
    "# нарезка на объекты с метками\n",
    "data = window_cutter(\n",
    "    df, TP=TP, SL=SL, \n",
    "    size_0=size_0, size_1=size_1, \n",
    "    point=point\n",
    ")"
   ]
  },
  {
   "cell_type": "code",
   "execution_count": 5,
   "metadata": {},
   "outputs": [
    {
     "data": {
      "text/plain": [
       "(20812, 301)"
      ]
     },
     "execution_count": 5,
     "metadata": {},
     "output_type": "execute_result"
    }
   ],
   "source": [
    "data.shape"
   ]
  },
  {
   "cell_type": "code",
   "execution_count": 6,
   "metadata": {},
   "outputs": [],
   "source": [
    "np.savez_compressed(\n",
    "    os.path.join(data_path, dataset), \n",
    "    obj=data[:,:-1], labels=data[:,-1]\n",
    ")"
   ]
  },
  {
   "cell_type": "markdown",
   "metadata": {},
   "source": [
    "Загрузка данных и подготовка к обучению"
   ]
  },
  {
   "cell_type": "code",
   "execution_count": 7,
   "metadata": {},
   "outputs": [],
   "source": [
    "load_file = os.path.join(data_path, dataset)"
   ]
  },
  {
   "cell_type": "code",
   "execution_count": 8,
   "metadata": {},
   "outputs": [],
   "source": [
    "X = np.load(load_file)['obj']\n",
    "y = np.load(load_file)['labels']"
   ]
  },
  {
   "cell_type": "markdown",
   "metadata": {},
   "source": [
    "Для тренировочных данных рекомендую применить выборку, т.к. объекты идут последовательно с наложением и происходит сильное дублирование обучающей информации, что в свою очередь приводит к переобучению."
   ]
  },
  {
   "cell_type": "code",
   "execution_count": 9,
   "metadata": {},
   "outputs": [],
   "source": [
    "# разбиение на трейн тест\n",
    "X_train, X_test, y_train, y_test = train_test_split(\n",
    "    X, y, test_size=0.2, random_state=1\n",
    ")\n",
    "\n",
    "# создание выборки из тренировочных данных\n",
    "data = np.hstack([\n",
    "    X_train, \n",
    "    y_train.reshape(y_train.shape[0], 1)\n",
    "])\n",
    "sel_idx = select(df, data, size_0)\n",
    "X_train = X_train[sel_idx]\n",
    "y_train = y_train[sel_idx]"
   ]
  },
  {
   "cell_type": "code",
   "execution_count": 10,
   "metadata": {},
   "outputs": [
    {
     "data": {
      "text/plain": [
       "((8257, 300), (8257,))"
      ]
     },
     "execution_count": 10,
     "metadata": {},
     "output_type": "execute_result"
    }
   ],
   "source": [
    "X_train.shape, y_train.shape"
   ]
  },
  {
   "cell_type": "code",
   "execution_count": 11,
   "metadata": {},
   "outputs": [
    {
     "data": {
      "text/plain": [
       "((4163, 300), (4163,))"
      ]
     },
     "execution_count": 11,
     "metadata": {},
     "output_type": "execute_result"
    }
   ],
   "source": [
    "X_test.shape, y_test.shape"
   ]
  },
  {
   "cell_type": "code",
   "execution_count": null,
   "metadata": {},
   "outputs": [],
   "source": []
  }
 ],
 "metadata": {
  "kernelspec": {
   "display_name": "Python 3",
   "language": "python",
   "name": "python3"
  },
  "language_info": {
   "codemirror_mode": {
    "name": "ipython",
    "version": 3
   },
   "file_extension": ".py",
   "mimetype": "text/x-python",
   "name": "python",
   "nbconvert_exporter": "python",
   "pygments_lexer": "ipython3",
   "version": "3.7.7"
  }
 },
 "nbformat": 4,
 "nbformat_minor": 2
}
